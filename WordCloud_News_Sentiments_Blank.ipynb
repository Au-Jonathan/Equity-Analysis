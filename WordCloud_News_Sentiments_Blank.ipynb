{
 "cells": [
  {
   "cell_type": "markdown",
   "id": "52d94293",
   "metadata": {},
   "source": [
    "# Make a wordcloud to observe market sentiment through News summary"
   ]
  },
  {
   "cell_type": "code",
   "execution_count": null,
   "id": "d6c5f43b",
   "metadata": {},
   "outputs": [],
   "source": [
    "import pandas as pd"
   ]
  },
  {
   "cell_type": "code",
   "execution_count": null,
   "id": "a8f8b074",
   "metadata": {},
   "outputs": [],
   "source": [
    "# Import News from yahoo finance\n",
    "\n",
    "from yahoo_fin import news\n",
    "summary = news.get_yf_rss(\"FB\")"
   ]
  },
  {
   "cell_type": "code",
   "execution_count": null,
   "id": "8a395a69",
   "metadata": {
    "scrolled": true
   },
   "outputs": [],
   "source": [
    "dataf=pd.DataFrame(summary)\n",
    "dataf"
   ]
  },
  {
   "cell_type": "code",
   "execution_count": null,
   "id": "0a19398f",
   "metadata": {},
   "outputs": [],
   "source": [
    "#dataf.to_csv('sample_news.csv')"
   ]
  },
  {
   "cell_type": "code",
   "execution_count": null,
   "id": "a6c75bae",
   "metadata": {},
   "outputs": [],
   "source": [
    "combined = dataf['summary']+dataf['title']\n",
    "combined.str.lower()"
   ]
  },
  {
   "cell_type": "markdown",
   "id": "dd0321b1",
   "metadata": {},
   "source": [
    "## Define a function that removes punctuations then join them back"
   ]
  },
  {
   "cell_type": "code",
   "execution_count": null,
   "id": "33d45c2f",
   "metadata": {},
   "outputs": [],
   "source": [
    "import string\n",
    "string.punctuation\n",
    "\n",
    "def remove_punc(message):\n",
    "    removed=[char for char in message if char not in string.punctuation]\n",
    "    removed_join=''.join(removed)  \n",
    "    return removed_join"
   ]
  },
  {
   "cell_type": "code",
   "execution_count": null,
   "id": "0e3c29f6",
   "metadata": {},
   "outputs": [],
   "source": [
    "combined_no_punc = combined.apply(remove_punc)\n",
    "combined_no_punc"
   ]
  },
  {
   "cell_type": "markdown",
   "id": "970dfbc3",
   "metadata": {},
   "source": [
    "## Remove Stopwords to retain important message, words like “I”, “having” have no value"
   ]
  },
  {
   "cell_type": "code",
   "execution_count": null,
   "id": "ab93b796",
   "metadata": {},
   "outputs": [],
   "source": [
    "import nltk\n",
    "from nltk.corpus import stopwords\n",
    "import gensim\n",
    "from gensim.utils import simple_preprocess\n",
    "\n",
    "nltk.download('stopwords')\n",
    "stopwords.words('english')"
   ]
  },
  {
   "cell_type": "code",
   "execution_count": null,
   "id": "9b38f68c",
   "metadata": {},
   "outputs": [],
   "source": [
    "# Customize stopwords\n",
    "\n",
    "stop_words=stopwords.words('english')\n",
    "stop_words.extend(['wednesday','said','market','stocks','march',\n",
    "                   'apple','apple','stock','AAPL','return'\n",
    "                   'stock','facebook','nasdaq','finance','start'])"
   ]
  },
  {
   "cell_type": "code",
   "execution_count": null,
   "id": "9ac3c5b0",
   "metadata": {},
   "outputs": [],
   "source": [
    "# Split the text into indivudual string\n",
    "\n",
    "gensim.utils.simple_preprocess(combined_no_punc[0]) "
   ]
  },
  {
   "cell_type": "code",
   "execution_count": null,
   "id": "84db3a7b",
   "metadata": {},
   "outputs": [],
   "source": [
    "# Define a function to remove short words(< 2 characters) and stopwords\n",
    "def preprocess(text):\n",
    "    result=[]\n",
    "    for token in gensim.utils.simple_preprocess(text):\n",
    "        if token not in stop_words and len(token) >4:\n",
    "            result.append(token)\n",
    "    return result"
   ]
  },
  {
   "cell_type": "code",
   "execution_count": null,
   "id": "79c75f08",
   "metadata": {},
   "outputs": [],
   "source": [
    "combined_no_punc_nostopwords=combined_no_punc.apply(preprocess)\n",
    "combined_no_punc_nostopwords"
   ]
  },
  {
   "cell_type": "markdown",
   "id": "fee0a383",
   "metadata": {},
   "source": [
    "## Join the strings"
   ]
  },
  {
   "cell_type": "code",
   "execution_count": null,
   "id": "fd6440d1",
   "metadata": {},
   "outputs": [],
   "source": [
    "combined_no_punc_nostopwords_joined = combined_no_punc_nostopwords.apply(lambda x:' '.join(x))\n",
    "combined_no_punc_nostopwords_joined"
   ]
  },
  {
   "cell_type": "code",
   "execution_count": null,
   "id": "e4609b82",
   "metadata": {
    "scrolled": true
   },
   "outputs": [],
   "source": [
    "Sentences = combined_no_punc_nostopwords_joined.tolist()\n",
    "Sentences"
   ]
  },
  {
   "cell_type": "code",
   "execution_count": null,
   "id": "10814a5b",
   "metadata": {},
   "outputs": [],
   "source": [
    "words_as_one_string=''.join(Sentences)\n",
    "words_as_one_string"
   ]
  },
  {
   "cell_type": "code",
   "execution_count": null,
   "id": "89a8453e",
   "metadata": {},
   "outputs": [],
   "source": [
    "import matplotlib.pyplot as plt\n",
    "\n",
    "from wordcloud import WordCloud \n",
    "plt.figure(figsize=(20,20))\n",
    "plt.imshow(WordCloud().generate(words_as_one_string)) "
   ]
  },
  {
   "cell_type": "code",
   "execution_count": null,
   "id": "e1a3ecba",
   "metadata": {},
   "outputs": [],
   "source": []
  }
 ],
 "metadata": {
  "kernelspec": {
   "display_name": "Python 3 (ipykernel)",
   "language": "python",
   "name": "python3"
  },
  "language_info": {
   "codemirror_mode": {
    "name": "ipython",
    "version": 3
   },
   "file_extension": ".py",
   "mimetype": "text/x-python",
   "name": "python",
   "nbconvert_exporter": "python",
   "pygments_lexer": "ipython3",
   "version": "3.9.7"
  }
 },
 "nbformat": 4,
 "nbformat_minor": 5
}
